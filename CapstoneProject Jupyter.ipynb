{
 "cells": [
  {
   "cell_type": "code",
   "execution_count": 9,
   "id": "8effaf60-f8c1-48f1-a733-4d3ebd87c1c1",
   "metadata": {},
   "outputs": [],
   "source": [
    "from dotenv import load_dotenv\n",
    "import os\n",
    "import psycopg2 as psql\n",
    "import pprint\n",
    "import numpy as np\n",
    "import requests\n",
    "from pprint import pprint\n",
    "from steam_web_api import Steam\n",
    "import pandas as pd\n"
   ]
  },
  {
   "cell_type": "code",
   "execution_count": 12,
   "id": "c9480a56-2e01-484d-8d52-dd7cf44d061b",
   "metadata": {},
   "outputs": [],
   "source": [
    "load_dotenv()\n",
    "\n",
    "KEY=os.getenv('STEAM_API_KEY')\n",
    "User=os.getenv('User')\n",
    "Password=os.getenv('Password')\n",
    "Host=os.getenv('Host')\n",
    "Database=os.getenv('Database')\n",
    "Port=os.getenv('Port')"
   ]
  },
  {
   "cell_type": "code",
   "execution_count": 11,
   "id": "b94d5b85-060a-40ea-8306-06b6dbc34e8f",
   "metadata": {},
   "outputs": [],
   "source": [
    "conn = psql.connect(\n",
    "    database=Database,\n",
    "    user=User,\n",
    "    host=Host,\n",
    "    password=Password,\n",
    "    port=Port\n",
    ")"
   ]
  },
  {
   "cell_type": "code",
   "execution_count": 5,
   "id": "d266caae-6294-443e-b43d-e9e4715118e4",
   "metadata": {},
   "outputs": [
    {
     "name": "stdout",
     "output_type": "stream",
     "text": [
      "<Response [200]>\n"
     ]
    }
   ],
   "source": [
    "url = f'https://pokeapi.co/api/v2/pokemon/3/'\n",
    "\n",
    "#\n",
    "response = requests.get(url)\n",
    "print(response)\n",
    "pokemon = response.json()\n"
   ]
  },
  {
   "cell_type": "code",
   "execution_count": 16,
   "id": "f546ef40-b02d-4bd1-8f24-707011243ae7",
   "metadata": {},
   "outputs": [
    {
     "name": "stdout",
     "output_type": "stream",
     "text": [
      "<steam_web_api.steam.Steam object at 0x00000232FE31C610>\n"
     ]
    },
    {
     "data": {
      "text/plain": [
       "{'player': {'steamid': '76561198341402951',\n",
       "  'communityvisibilitystate': 3,\n",
       "  'profilestate': 1,\n",
       "  'personaname': 'SuperAbz',\n",
       "  'commentpermission': 2,\n",
       "  'profileurl': 'https://steamcommunity.com/id/SuperAbz/',\n",
       "  'avatar': 'https://avatars.steamstatic.com/9460ad139083afc82c9025cb03ab9a51bd876dd9.jpg',\n",
       "  'avatarmedium': 'https://avatars.steamstatic.com/9460ad139083afc82c9025cb03ab9a51bd876dd9_medium.jpg',\n",
       "  'avatarfull': 'https://avatars.steamstatic.com/9460ad139083afc82c9025cb03ab9a51bd876dd9_full.jpg',\n",
       "  'avatarhash': '9460ad139083afc82c9025cb03ab9a51bd876dd9',\n",
       "  'lastlogoff': 1717937496,\n",
       "  'personastate': 0,\n",
       "  'realname': 'TheLastDodo',\n",
       "  'primaryclanid': '103582791429521408',\n",
       "  'timecreated': 1477768490,\n",
       "  'personastateflags': 0,\n",
       "  'loccountrycode': 'GB'}}"
      ]
     },
     "execution_count": 16,
     "metadata": {},
     "output_type": "execute_result"
    }
   ],
   "source": [
    "steam = Steam(KEY)\n",
    "#response = requests.get(steam)\n",
    "print(steam)\n",
    "steam.users.search_user(\"SuperAbz\")"
   ]
  }
 ],
 "metadata": {
  "kernelspec": {
   "display_name": "Python 3 (ipykernel)",
   "language": "python",
   "name": "python3"
  },
  "language_info": {
   "codemirror_mode": {
    "name": "ipython",
    "version": 3
   },
   "file_extension": ".py",
   "mimetype": "text/x-python",
   "name": "python",
   "nbconvert_exporter": "python",
   "pygments_lexer": "ipython3",
   "version": "3.11.7"
  }
 },
 "nbformat": 4,
 "nbformat_minor": 5
}
