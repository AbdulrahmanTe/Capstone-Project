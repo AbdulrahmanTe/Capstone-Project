{
 "cells": [
  {
   "cell_type": "code",
   "execution_count": 1,
   "id": "8effaf60-f8c1-48f1-a733-4d3ebd87c1c1",
   "metadata": {},
   "outputs": [],
   "source": [
    "from dotenv import load_dotenv\n",
    "import os\n",
    "import psycopg2 as psql\n",
    "import pprint\n",
    "import numpy as np\n",
    "import requests\n",
    "from pprint import pprint\n",
    "from steam_web_api import Steam\n",
    "import pandas as pd\n"
   ]
  },
  {
   "cell_type": "code",
   "execution_count": 2,
   "id": "c9480a56-2e01-484d-8d52-dd7cf44d061b",
   "metadata": {},
   "outputs": [],
   "source": [
    "load_dotenv()\n",
    "\n",
    "KEY=os.getenv('STEAM_API_KEY')\n",
    "User=os.getenv('User')\n",
    "Password=os.getenv('Password')\n",
    "Host=os.getenv('Host')\n",
    "Database=os.getenv('Database')\n",
    "Port=os.getenv('Port')\n",
    "steam = Steam(KEY)"
   ]
  },
  {
   "cell_type": "code",
   "execution_count": 20,
   "id": "b94d5b85-060a-40ea-8306-06b6dbc34e8f",
   "metadata": {},
   "outputs": [
    {
     "name": "stdout",
     "output_type": "stream",
     "text": [
      "This table already exists\n"
     ]
    },
    {
     "ename": "InFailedSqlTransaction",
     "evalue": "current transaction is aborted, commands ignored until end of transaction block\n",
     "output_type": "error",
     "traceback": [
      "\u001b[1;31m---------------------------------------------------------------------------\u001b[0m",
      "\u001b[1;31mDuplicateTable\u001b[0m                            Traceback (most recent call last)",
      "Cell \u001b[1;32mIn[20], line 19\u001b[0m\n\u001b[0;32m     12\u001b[0m     sql\u001b[38;5;241m=\u001b[39m\u001b[38;5;124m\"\"\"\u001b[39m\n\u001b[0;32m     13\u001b[0m \u001b[38;5;124m    CREATE TABLE student.de10ATCapstoneProject (\u001b[39m\n\u001b[0;32m     14\u001b[0m \u001b[38;5;124m    id INT GENERATED ALWAYS AS IDENTITY,\u001b[39m\n\u001b[1;32m   (...)\u001b[0m\n\u001b[0;32m     17\u001b[0m \u001b[38;5;124m    avatar_url VARCHAR(255) NOT NULL);\u001b[39m\n\u001b[0;32m     18\u001b[0m \u001b[38;5;124m    \u001b[39m\u001b[38;5;124m\"\"\"\u001b[39m\n\u001b[1;32m---> 19\u001b[0m     \u001b[43mcur\u001b[49m\u001b[38;5;241;43m.\u001b[39;49m\u001b[43mexecute\u001b[49m\u001b[43m(\u001b[49m\u001b[43msql\u001b[49m\u001b[43m)\u001b[49m\n\u001b[0;32m     20\u001b[0m \u001b[38;5;28;01mexcept\u001b[39;00m:\n",
      "\u001b[1;31mDuplicateTable\u001b[0m: relation \"de10atcapstoneproject\" already exists\n",
      "\nDuring handling of the above exception, another exception occurred:\n",
      "\u001b[1;31mInFailedSqlTransaction\u001b[0m                    Traceback (most recent call last)",
      "Cell \u001b[1;32mIn[20], line 26\u001b[0m\n\u001b[0;32m     21\u001b[0m \u001b[38;5;28mprint\u001b[39m(\u001b[38;5;124m\"\u001b[39m\u001b[38;5;124mThis table already exists\u001b[39m\u001b[38;5;124m\"\u001b[39m)\n\u001b[0;32m     22\u001b[0m sql\u001b[38;5;241m=\u001b[39m\u001b[38;5;124m\"\"\"\u001b[39m\n\u001b[0;32m     23\u001b[0m \u001b[38;5;124mSELECT *\u001b[39m\n\u001b[0;32m     24\u001b[0m \u001b[38;5;124mFROM student.de10ATCapstoneProject;\u001b[39m\n\u001b[0;32m     25\u001b[0m \u001b[38;5;124m\u001b[39m\u001b[38;5;124m\"\"\"\u001b[39m \n\u001b[1;32m---> 26\u001b[0m \u001b[43mcur\u001b[49m\u001b[38;5;241;43m.\u001b[39;49m\u001b[43mexecute\u001b[49m\u001b[43m(\u001b[49m\u001b[43msql\u001b[49m\u001b[43m)\u001b[49m\n\u001b[0;32m     28\u001b[0m rows\u001b[38;5;241m=\u001b[39mcur\u001b[38;5;241m.\u001b[39mfetchall()\n\u001b[0;32m     30\u001b[0m \u001b[38;5;28;01mfor\u001b[39;00m row \u001b[38;5;129;01min\u001b[39;00m rows:\n",
      "\u001b[1;31mInFailedSqlTransaction\u001b[0m: current transaction is aborted, commands ignored until end of transaction block\n"
     ]
    }
   ],
   "source": [
    "conn = psql.connect(\n",
    "    database=Database,\n",
    "    user=User,\n",
    "    host=Host,\n",
    "    password=Password,\n",
    "    port=Port\n",
    ")\n",
    "\n",
    "cur=conn.cursor()\n",
    "\n",
    "try:\n",
    "    sql=\"\"\"\n",
    "    CREATE TABLE student.de10ATCapstoneProject (\n",
    "    id INT GENERATED ALWAYS AS IDENTITY,\n",
    "    user_name VARCHAR(60) NOT NULL,\n",
    "    steam_id BIGINT NOT NULL,\n",
    "    avatar_url VARCHAR(255) NOT NULL);\n",
    "    \"\"\"\n",
    "    cur.execute(sql)\n",
    "except:\n",
    "    print(\"This table already exists\")\n",
    "    sql=\"\"\"\n",
    "    SELECT *\n",
    "    FROM student.de10ATCapstoneProject;\n",
    "    \"\"\" \n",
    "    cur.execute(sql)\n",
    "\n",
    "    rows=cur.fetchall()\n",
    "\n",
    "    for row in rows:\n",
    "        print(row)\n",
    "\n",
    "\n",
    "cur.close()"
   ]
  },
  {
   "cell_type": "code",
   "execution_count": 39,
   "id": "d266caae-6294-443e-b43d-e9e4715118e4",
   "metadata": {},
   "outputs": [
    {
     "data": {
      "text/plain": [
       "{'player': {'steamid': '76561198341402951',\n",
       "  'communityvisibilitystate': 3,\n",
       "  'profilestate': 1,\n",
       "  'personaname': 'SuperAbz',\n",
       "  'commentpermission': 2,\n",
       "  'profileurl': 'https://steamcommunity.com/id/SuperAbz/',\n",
       "  'avatar': 'https://avatars.steamstatic.com/9460ad139083afc82c9025cb03ab9a51bd876dd9.jpg',\n",
       "  'avatarmedium': 'https://avatars.steamstatic.com/9460ad139083afc82c9025cb03ab9a51bd876dd9_medium.jpg',\n",
       "  'avatarfull': 'https://avatars.steamstatic.com/9460ad139083afc82c9025cb03ab9a51bd876dd9_full.jpg',\n",
       "  'avatarhash': '9460ad139083afc82c9025cb03ab9a51bd876dd9',\n",
       "  'lastlogoff': 1717937496,\n",
       "  'personastate': 0,\n",
       "  'realname': 'TheLastDodo',\n",
       "  'primaryclanid': '103582791429521408',\n",
       "  'timecreated': 1477768490,\n",
       "  'personastateflags': 0,\n",
       "  'loccountrycode': 'GB'}}"
      ]
     },
     "execution_count": 39,
     "metadata": {},
     "output_type": "execute_result"
    }
   ],
   "source": [
    "def get_details(userName):\n",
    "    try:\n",
    "        userDetails=steam.users.search_user(userName)\n",
    "        if userDetails == 'No match':\n",
    "            print(\"There is no user with this name\")\n",
    "        else:\n",
    "            return userDetails['player']['personaname'], userDetails['player']['steamid'],userDetails['player']['avatarfull'],\n",
    "    except:\n",
    "        return 'Error', np.NAN, np.NAN, \n",
    "\n",
    "#pprint(get_details('SuperAbz'))\n",
    "steam.users.search_user('SuperAbz')"
   ]
  },
  {
   "cell_type": "code",
   "execution_count": 15,
   "id": "b76f6622",
   "metadata": {},
   "outputs": [
    {
     "name": "stdout",
     "output_type": "stream",
     "text": [
      "{'user_name': 'SuperAbz', 'steam_id': '76561198341402951', 'avatar_url': 'https://avatars.steamstatic.com/9460ad139083afc82c9025cb03ab9a51bd876dd9_full.jpg'}\n"
     ]
    },
    {
     "ename": "NumericValueOutOfRange",
     "evalue": "value \"76561198341402951\" is out of range for type integer\nLINE 3: VALUES ('SuperAbz', '76561198341402951', 'https://avatars.st...\n                            ^\n",
     "output_type": "error",
     "traceback": [
      "\u001b[1;31m---------------------------------------------------------------------------\u001b[0m",
      "\u001b[1;31mNumericValueOutOfRange\u001b[0m                    Traceback (most recent call last)",
      "Cell \u001b[1;32mIn[15], line 25\u001b[0m\n\u001b[0;32m     19\u001b[0m sql \u001b[38;5;241m=\u001b[39m \u001b[38;5;124m\"\"\"\u001b[39m\n\u001b[0;32m     20\u001b[0m \u001b[38;5;124mINSERT INTO student.de10_at_capstone_project1 (user_name, steam_id, avatar_url)\u001b[39m\n\u001b[0;32m     21\u001b[0m \u001b[38;5;124mVALUES (\u001b[39m\u001b[38;5;132;01m%s\u001b[39;00m\u001b[38;5;124m, \u001b[39m\u001b[38;5;132;01m%s\u001b[39;00m\u001b[38;5;124m, \u001b[39m\u001b[38;5;132;01m%s\u001b[39;00m\u001b[38;5;124m)\u001b[39m\n\u001b[0;32m     22\u001b[0m \u001b[38;5;124m\"\"\"\u001b[39m\n\u001b[0;32m     24\u001b[0m \u001b[38;5;66;03m# Execute the query with parameters\u001b[39;00m\n\u001b[1;32m---> 25\u001b[0m \u001b[43mcur\u001b[49m\u001b[38;5;241;43m.\u001b[39;49m\u001b[43mexecute\u001b[49m\u001b[43m(\u001b[49m\u001b[43msql\u001b[49m\u001b[43m,\u001b[49m\u001b[43m \u001b[49m\u001b[43m(\u001b[49m\n\u001b[0;32m     26\u001b[0m \u001b[43m    \u001b[49m\u001b[43mnewData\u001b[49m\u001b[43m[\u001b[49m\u001b[38;5;124;43m'\u001b[39;49m\u001b[38;5;124;43muser_name\u001b[39;49m\u001b[38;5;124;43m'\u001b[39;49m\u001b[43m]\u001b[49m\u001b[43m,\u001b[49m\n\u001b[0;32m     27\u001b[0m \u001b[43m    \u001b[49m\u001b[43mnewData\u001b[49m\u001b[43m[\u001b[49m\u001b[38;5;124;43m'\u001b[39;49m\u001b[38;5;124;43msteam_id\u001b[39;49m\u001b[38;5;124;43m'\u001b[39;49m\u001b[43m]\u001b[49m\u001b[43m,\u001b[49m\n\u001b[0;32m     28\u001b[0m \u001b[43m    \u001b[49m\u001b[43mnewData\u001b[49m\u001b[43m[\u001b[49m\u001b[38;5;124;43m'\u001b[39;49m\u001b[38;5;124;43mavatar_url\u001b[39;49m\u001b[38;5;124;43m'\u001b[39;49m\u001b[43m]\u001b[49m\n\u001b[0;32m     29\u001b[0m \u001b[43m)\u001b[49m\u001b[43m)\u001b[49m\n\u001b[0;32m     30\u001b[0m conn\u001b[38;5;241m.\u001b[39mcommit()\n\u001b[0;32m     31\u001b[0m conn\u001b[38;5;241m.\u001b[39mclose()\n",
      "\u001b[1;31mNumericValueOutOfRange\u001b[0m: value \"76561198341402951\" is out of range for type integer\nLINE 3: VALUES ('SuperAbz', '76561198341402951', 'https://avatars.st...\n                            ^\n"
     ]
    }
   ],
   "source": [
    "UserData=get_details('SuperAbz')\n",
    "\n",
    "cur=conn.cursor()\n",
    "\n",
    "newData = {\n",
    "    'user_name': UserData[0],\n",
    "    'steam_id': UserData[1],\n",
    "    'avatar_url': UserData[2]\n",
    "}\n",
    "\n",
    "print(newData)\n",
    "\n",
    "sql = \"\"\"\n",
    "INSERT INTO student.de10_at_capstone_project1 (user_name, steam_id, avatar_url)\n",
    "VALUES (%s, %s, %s)\n",
    "\"\"\"\n",
    "\n",
    "# Execute the query with parameters\n",
    "cur.execute(sql, (\n",
    "    newData['user_name'],\n",
    "    newData['steam_id'],\n",
    "    newData['avatar_url']\n",
    "))\n",
    "conn.commit()\n",
    "cur.close()\n",
    "conn.close()"
   ]
  },
  {
   "cell_type": "code",
   "execution_count": 60,
   "id": "e5213741",
   "metadata": {},
   "outputs": [
    {
     "name": "stdout",
     "output_type": "stream",
     "text": [
      "[]\n"
     ]
    }
   ],
   "source": [
    "sql=\"\"\"\n",
    "SELECT *\n",
    "FROM student.de10_at_capstone_project1 \n",
    "\n",
    "\n",
    "\"\"\"\n",
    "cur.execute(sql)\n",
    "rows=cur.fetchall()\n",
    "print(rows)\n",
    "\n",
    "\n",
    "# if rows:    \n",
    "#     for row in rows:\n",
    "#         print(row)\n",
    "# else:\n",
    "#     print(\"This user is not in the table\")"
   ]
  },
  {
   "cell_type": "code",
   "execution_count": 39,
   "id": "f546ef40-b02d-4bd1-8f24-707011243ae7",
   "metadata": {},
   "outputs": [
    {
     "name": "stdout",
     "output_type": "stream",
     "text": [
      "<steam_web_api.steam.Steam object at 0x000001369788CD70>\n",
      "{'player': {'avatar': 'https://avatars.steamstatic.com/9460ad139083afc82c9025cb03ab9a51bd876dd9.jpg',\n",
      "            'avatarfull': 'https://avatars.steamstatic.com/9460ad139083afc82c9025cb03ab9a51bd876dd9_full.jpg',\n",
      "            'avatarhash': '9460ad139083afc82c9025cb03ab9a51bd876dd9',\n",
      "            'avatarmedium': 'https://avatars.steamstatic.com/9460ad139083afc82c9025cb03ab9a51bd876dd9_medium.jpg',\n",
      "            'commentpermission': 2,\n",
      "            'communityvisibilitystate': 3,\n",
      "            'lastlogoff': 1717937496,\n",
      "            'loccountrycode': 'GB',\n",
      "            'personaname': 'SuperAbz',\n",
      "            'personastate': 0,\n",
      "            'personastateflags': 0,\n",
      "            'primaryclanid': '103582791429521408',\n",
      "            'profilestate': 1,\n",
      "            'profileurl': 'https://steamcommunity.com/id/SuperAbz/',\n",
      "            'realname': 'TheLastDodo',\n",
      "            'steamid': '76561198341402951',\n",
      "            'timecreated': 1477768490}}\n"
     ]
    }
   ],
   "source": [
    "steam = Steam(KEY)\n",
    "#response = requests.get(steam)\n",
    "print(steam)\n",
    "userDetails=steam.users.search_user(\"SuperAbz\")\n",
    "pprint(userDetails)\n",
    "#name=steam.users.search_user(\"SuperAbz\")['player']['personaname']\n",
    "#print(userDetails['player']['personaname'])\n"
   ]
  },
  {
   "cell_type": "code",
   "execution_count": 53,
   "id": "595feed5",
   "metadata": {},
   "outputs": [
    {
     "name": "stdout",
     "output_type": "stream",
     "text": [
      "{'response': {}}\n"
     ]
    }
   ],
   "source": [
    "user = steam.users.get_account_public_info(76561198341402951)\n",
    "print(user)"
   ]
  },
  {
   "cell_type": "code",
   "execution_count": 19,
   "id": "4ee22a3a",
   "metadata": {},
   "outputs": [
    {
     "name": "stdout",
     "output_type": "stream",
     "text": [
      "{'id': [105600],\n",
      " 'img': 'https://shared.akamai.steamstatic.com/store_item_assets/steam/apps/105600/capsule_sm_120.jpg?t=1666290860',\n",
      " 'link': 'https://store.steampowered.com/app/105600/Terraria/?snr=1_7_15__13',\n",
      " 'name': 'Terraria',\n",
      " 'price': '$4.99'}\n"
     ]
    }
   ],
   "source": [
    "games = steam.apps.search_games(\"terr\")\n",
    "pprint(games['apps'][0][img])\n",
    "pprint(games['apps'][0][link])"
   ]
  },
  {
   "cell_type": "code",
   "execution_count": 34,
   "id": "0da7c428",
   "metadata": {},
   "outputs": [
    {
     "name": "stdout",
     "output_type": "stream",
     "text": [
      "{'total_count': 0}\n"
     ]
    }
   ],
   "source": [
    "user = steam.users.get_user_recently_played_games(\"76561198341402951\")\n",
    "print(user)"
   ]
  },
  {
   "cell_type": "code",
   "execution_count": 36,
   "id": "8b07585c",
   "metadata": {},
   "outputs": [
    {
     "name": "stdout",
     "output_type": "stream",
     "text": [
      "[{'Playtime': 7015,\n",
      "  'gameLink': 'https://store.steampowered.com/app/397540/Borderlands_3/?snr=1_7_15__13',\n",
      "  'gameName': 'Borderlands 3',\n",
      "  'gamesImg': 'https://shared.akamai.steamstatic.com/store_item_assets/steam/apps/397540/capsule_sm_120.jpg?t=1693524259'},\n",
      " {'Playtime': 2844,\n",
      "  'gameLink': 'https://store.steampowered.com/app/330830/Tales_from_the_Borderlands/?snr=1_7_15__13',\n",
      "  'gameName': 'Tales from the Borderlands',\n",
      "  'gamesImg': 'https://shared.akamai.steamstatic.com/store_item_assets/steam/apps/330830/capsule_sm_120.jpg?t=1693524232'},\n",
      " {'Playtime': 2200,\n",
      "  'gameLink': 'https://store.steampowered.com/app/49520/Borderlands_2/?snr=1_7_15__13',\n",
      "  'gameName': 'Borderlands 2',\n",
      "  'gamesImg': 'https://shared.akamai.steamstatic.com/store_item_assets/steam/apps/49520/capsule_sm_120.jpg?t=1693524237'},\n",
      " {'Playtime': 1855,\n",
      "  'gameLink': 'https://store.steampowered.com/app/22380/Fallout_New_Vegas/?snr=1_7_15__13',\n",
      "  'gameName': 'Fallout: New Vegas',\n",
      "  'gamesImg': 'https://shared.akamai.steamstatic.com/store_item_assets/steam/apps/22380/capsule_sm_120.jpg?t=1665072891'},\n",
      " {'Playtime': 1162,\n",
      "  'gameLink': 'https://store.steampowered.com/app/213670/South_Park_The_Stick_of_Truth/?snr=1_7_15__13',\n",
      "  'gameName': 'South Park™: The Stick of Truth™',\n",
      "  'gamesImg': 'https://shared.akamai.steamstatic.com/store_item_assets/steam/apps/213670/capsule_sm_120.jpg?t=1680013652'}]\n"
     ]
    }
   ],
   "source": [
    "games = steam.users.get_owned_games(\"76561198341402951\")\n",
    "#pprint(games)\n",
    "sorted_games = sorted(games['games'], key=lambda x: x['playtime_forever'], reverse=True)\n",
    "gamesList = []\n",
    "for game in sorted_games[:5]:\n",
    "    game_info = steam.apps.search_games(game['name'])\n",
    "    if game_info['apps']:\n",
    "        game_data = game_info['apps'][0]\n",
    "        game_details = {\n",
    "            'gamesImg': game_data['img'],\n",
    "            'gameLink': game_data['link'],\n",
    "            'gameName': game['name'],\n",
    "            'Playtime': game['playtime_forever']\n",
    "        }\n",
    "        gamesList.append(game_details)\n",
    "\n",
    "pprint(gamesList)\n",
    "#https://cdn.cloudflare.steamstatic.com/steamcommunity/public/images/apps/400/cfa928ab4119dd137e50d728e8fe703e4e970aff.jpg\n",
    "#https://cdn.cloudflare.steamstatic.com/steamcommunity/public/images/apps/4000/cfa928ab4119dd137e50d728e8fe703e4e970aff.jpg"
   ]
  },
  {
   "cell_type": "code",
   "execution_count": 60,
   "id": "63f8047f",
   "metadata": {},
   "outputs": [
    {
     "name": "stdout",
     "output_type": "stream",
     "text": [
      "('Slightly Oversized Cat',\n",
      " '76561198045983134',\n",
      " 'https://avatars.steamstatic.com/b3877044cdfff2ddb4288f670e0656064d9f1b2d_full.jpg',\n",
      " \"Sid Meier's Civilization V\",\n",
      " 'https://shared.akamai.steamstatic.com/store_item_assets/steam/apps/8930/capsule_sm_120.jpg?t=1579731804',\n",
      " 'https://store.steampowered.com/app/8930/Sid_Meiers_Civilization_V/?snr=1_7_15__13',\n",
      " 74755,\n",
      " 'Counter-Strike 2',\n",
      " 'https://shared.akamai.steamstatic.com/store_item_assets/steam/apps/730/capsule_sm_120.jpg?t=1719426374',\n",
      " 'https://store.steampowered.com/app/730/CounterStrike_2/?snr=1_7_15__13',\n",
      " 54758,\n",
      " 'Terraria',\n",
      " 'https://shared.akamai.steamstatic.com/store_item_assets/steam/apps/105600/capsule_sm_120.jpg?t=1666290860',\n",
      " 'https://store.steampowered.com/app/105600/Terraria/?snr=1_7_15__13',\n",
      " 50636)\n"
     ]
    }
   ],
   "source": [
    "def getUserDetails(userName):\n",
    "    try:\n",
    "        userDetails=steam.users.search_user(userName)\n",
    "        if userDetails== 'No match':\n",
    "            print(\"There is no user with this name\")\n",
    "        else:\n",
    "            steamId=userDetails['player']['steamid']\n",
    "            ##print(steamId)\n",
    "            gamesDetails = steam.users.get_owned_games(steamId)\n",
    "            ##pprint(gamesDetails)\n",
    "            sorted_games = sorted(gamesDetails['games'], key=lambda x: x['playtime_forever'], reverse=True)\n",
    "            gamesList = []\n",
    "            for game in sorted_games[:5]:\n",
    "                game_info = steam.apps.search_games(game['name'])\n",
    "                if game_info['apps']:\n",
    "                    game_data = game_info['apps'][0]\n",
    "                    game_details = {\n",
    "                        'gamesImg': game_data['img'],\n",
    "                        'gameLink': game_data['link'],\n",
    "                        'gameName': game['name'],\n",
    "                        'Playtime': game['playtime_forever']\n",
    "                    }\n",
    "                    gamesList.append(game_details)\n",
    "\n",
    "\n",
    "            return userDetails['player']['personaname'], userDetails['player']['steamid'],userDetails['player']['avatarfull'],gamesList[0]['gameName'],gamesList[0]['gamesImg'],gamesList[0]['gameLink'],gamesList[0]['Playtime'],gamesList[1]['gameName'],gamesList[1]['gamesImg'],gamesList[1]['gameLink'],gamesList[1]['Playtime'],gamesList[2]['gameName'],gamesList[2]['gamesImg'],gamesList[2]['gameLink'],gamesList[2]['Playtime']\n",
    "    except AttributeError:\n",
    "        return 'Error', np.NAN, np.NAN, np.NAN, np.NAN, np.NAN, np.NAN, np.NAN , np.NAN, np.NAN, np.NAN, np.NAN , np.NAN, np.NAN, np.NAN, np.NAN \n",
    "    \n",
    "\n",
    "pprint(getUserDetails('Deejayah'))\n"
   ]
  },
  {
   "cell_type": "code",
   "execution_count": 58,
   "id": "1538e7c8",
   "metadata": {},
   "outputs": [],
   "source": [
    "conn = psql.connect(\n",
    "    database=Database,\n",
    "    user=User,\n",
    "    host=Host,\n",
    "    password=Password,\n",
    "    port=Port\n",
    ")\n",
    "\n",
    "cur=conn.cursor()\n",
    "\n",
    "userData=getUserDetails('shadeisalive')\n",
    "\n",
    "sql = \"\"\"\n",
    "INSERT INTO student.de10ATCapstoneProject (user_name, steam_id, avatar_url, game_name1,game_img1,game_url1,playtime1,game_name2, game_img2, game_url2, playtime2,game_name3, game_img3, game_url3, playtime3)\n",
    "VALUES (%s, %s, %s, %s,%s, %s, %s, %s,%s, %s, %s, %s,%s, %s, %s)\n",
    "\"\"\"\n",
    "\n",
    "# Execute the query with parameters\n",
    "cur.execute(sql, (\n",
    "    userData[0],\n",
    "    userData[1],\n",
    "    userData[2],\n",
    "    userData[3],\n",
    "    userData[4],\n",
    "    userData[5],\n",
    "    userData[6],\n",
    "    userData[7],\n",
    "    userData[8],\n",
    "    userData[9],\n",
    "    userData[10],\n",
    "    userData[11],\n",
    "    userData[12],\n",
    "    userData[13],\n",
    "    userData[14]\n",
    "))\n",
    "conn.commit()\n",
    "\n",
    "\n",
    "cur.close()\n",
    "conn.close()"
   ]
  }
 ],
 "metadata": {
  "kernelspec": {
   "display_name": "Python 3 (ipykernel)",
   "language": "python",
   "name": "python3"
  },
  "language_info": {
   "codemirror_mode": {
    "name": "ipython",
    "version": 3
   },
   "file_extension": ".py",
   "mimetype": "text/x-python",
   "name": "python",
   "nbconvert_exporter": "python",
   "pygments_lexer": "ipython3",
   "version": "3.12.3"
  }
 },
 "nbformat": 4,
 "nbformat_minor": 5
}
